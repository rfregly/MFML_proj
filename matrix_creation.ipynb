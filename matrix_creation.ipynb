{
 "cells": [
  {
   "cell_type": "code",
   "execution_count": 1,
   "metadata": {},
   "outputs": [
    {
     "name": "stdout",
     "output_type": "stream",
     "text": [
      "2511\n",
      "502\n",
      "2009\n"
     ]
    }
   ],
   "source": [
    "import pandas as pd\n",
    "import math\n",
    "\n",
    "#pull reviews\n",
    "reviews = pd.read_csv(\"reviews.csv\")\n",
    "\n",
    "#take train data...\n",
    "num_test = math.floor(len(reviews) * .2)\n",
    "num_train = len(reviews) - num_test\n",
    "\n",
    "print(len(reviews))\n",
    "print(num_test)\n",
    "print(num_train)"
   ]
  },
  {
   "cell_type": "code",
   "execution_count": 2,
   "metadata": {},
   "outputs": [
    {
     "name": "stdout",
     "output_type": "stream",
     "text": [
      "502\n",
      "2009\n"
     ]
    }
   ],
   "source": [
    "test = reviews.iloc[:num_test]\n",
    "train = reviews.iloc[num_test:]\n",
    "\n",
    "print(len(test))\n",
    "print(len(train))"
   ]
  },
  {
   "cell_type": "code",
   "execution_count": 52,
   "metadata": {},
   "outputs": [],
   "source": [
    "test_labels = test['rating'].to_frame()\n",
    "test_text = test['text'].to_frame()\n",
    "\n",
    "train_labels = train['rating'].to_frame()\n",
    "train_text = train['text'].to_frame()"
   ]
  },
  {
   "cell_type": "code",
   "execution_count": 4,
   "metadata": {},
   "outputs": [
    {
     "name": "stdout",
     "output_type": "stream",
     "text": [
      "11768\n"
     ]
    }
   ],
   "source": [
    "import nltk\n",
    "from nltk.tokenize import WordPunctTokenizer\n",
    "\n",
    "tk = WordPunctTokenizer()\n",
    "NEG = 'NOT_'\n",
    "negs = ['not', 'none', 'no', 'impossible', 'n\\'t']\n",
    "punct = [',', '.', '?', '!', ';', '-']\n",
    "\n",
    "#preps data\n",
    "def prep(text):\n",
    "    data_list = []\n",
    "    for i, data in text.iterrows():\n",
    "        words = []\n",
    "        review = data['text']\n",
    "        listed = review.split()\n",
    "        neggy = False\n",
    "        for word in listed:\n",
    "            w = word.lower()\n",
    "            if neggy:\n",
    "                if word in punct:\n",
    "                    words.append(w)\n",
    "                    neggy = False\n",
    "                else:\n",
    "                    words.append(NEG + w)\n",
    "            else:\n",
    "                words.append(w)\n",
    "                if w in negs:\n",
    "                    if neggy:\n",
    "                        neggy = False\n",
    "                    else:\n",
    "                        neggy = True\n",
    "        data_list.append(' '.join(words))\n",
    "    return data_list\n",
    " \n",
    "train_list = prep(train_text)\n",
    "tokens = tk.tokenize(' '.join(train_list))\n",
    "freq = nltk.FreqDist(tokens)\n",
    "vocab = {'<unk>':0}\n",
    "i = 1\n",
    "for item in freq.keys():\n",
    "    if item not in vocab:\n",
    "        if freq[item] > 2:\n",
    "            vocab[item] = i\n",
    "            i += 1\n",
    "print(len(vocab))"
   ]
  },
  {
   "cell_type": "code",
   "execution_count": 42,
   "metadata": {},
   "outputs": [
    {
     "name": "stdout",
     "output_type": "stream",
     "text": [
      "train feature matrix shape: (2009, 11768)\n",
      "train label array shape: (2009,)\n"
     ]
    }
   ],
   "source": [
    "import numpy as np\n",
    "\n",
    "def make_matrix(text_list):\n",
    "    n = len(text_list)\n",
    "    X = np.zeros((n, len(vocab)))\n",
    "    for i in range(n):\n",
    "        review = tk.tokenize(text_list[i])\n",
    "        for word in review:\n",
    "            if word in vocab:\n",
    "                X[i][vocab[word]] += 1\n",
    "            else:\n",
    "                X[i][0] += 1\n",
    "    return X\n",
    "\n",
    "train_matrix = make_matrix(train_list)\n",
    "\n",
    "print(\"train feature matrix shape: ({}, {})\".format(len(train_matrix), len(train_matrix[0])))\n",
    "print(\"train label array shape: ({},)\".format(len(train_labels)))"
   ]
  },
  {
   "cell_type": "code",
   "execution_count": 43,
   "metadata": {},
   "outputs": [
    {
     "name": "stdout",
     "output_type": "stream",
     "text": [
      "test feature matrix shape: (502, 11768)\n",
      "test label array shape: (502,)\n"
     ]
    }
   ],
   "source": [
    "#clean test data\n",
    "\n",
    "test_list = prep(test_text)\n",
    "test_matrix = make_matrix(test_list)\n",
    "\n",
    "print(\"test feature matrix shape: ({}, {})\".format(len(test_matrix), len(test_matrix[0])))\n",
    "print(\"test label array shape: ({},)\".format(len(test_labels)))"
   ]
  },
  {
   "cell_type": "code",
   "execution_count": 46,
   "metadata": {},
   "outputs": [],
   "source": [
    "def clean_labels(y):\n",
    "    for i, val in enumerate(y):\n",
    "        if val > 3:\n",
    "            y[i] = 1\n",
    "        else:\n",
    "            y[i] = -1\n",
    "    return y\n",
    "\n",
    "X_train = train_matrix\n",
    "y_train = clean_labels(np.ravel(train_labels.to_numpy()))\n",
    "\n",
    "X_test = test_matrix\n",
    "y_test = clean_labels(np.ravel(test_labels.to_numpy()))"
   ]
  },
  {
   "cell_type": "code",
   "execution_count": 31,
   "metadata": {},
   "outputs": [
    {
     "data": {
      "text/plain": [
       "(2009,)"
      ]
     },
     "execution_count": 31,
     "metadata": {},
     "output_type": "execute_result"
    }
   ],
   "source": [
    "y_train.shape"
   ]
  },
  {
   "cell_type": "code",
   "execution_count": null,
   "metadata": {},
   "outputs": [],
   "source": [
    "import time"
   ]
  },
  {
   "cell_type": "code",
   "execution_count": 48,
   "metadata": {},
   "outputs": [
    {
     "name": "stderr",
     "output_type": "stream",
     "text": [
      "/Users/rayfregly/anaconda3/lib/python3.8/site-packages/sklearn/linear_model/_coordinate_descent.py:529: ConvergenceWarning: Objective did not converge. You might want to increase the number of iterations. Duality gap: 0.36927251401766625, tolerance: 0.22715790929203458\n",
      "  model = cd_fast.enet_coordinate_descent(\n",
      "/Users/rayfregly/anaconda3/lib/python3.8/site-packages/sklearn/linear_model/_coordinate_descent.py:529: UserWarning: Coordinate descent with no regularization may lead to unexpected results and is discouraged.\n",
      "  model = cd_fast.enet_coordinate_descent(\n",
      "/Users/rayfregly/anaconda3/lib/python3.8/site-packages/sklearn/linear_model/_coordinate_descent.py:529: ConvergenceWarning: Objective did not converge. You might want to increase the number of iterations. Duality gap: 4.519818598369942, tolerance: 0.22920353982300853\n",
      "  model = cd_fast.enet_coordinate_descent(\n",
      "/Users/rayfregly/anaconda3/lib/python3.8/site-packages/sklearn/linear_model/_coordinate_descent.py:529: ConvergenceWarning: Objective did not converge. You might want to increase the number of iterations. Duality gap: 4.752289133543394, tolerance: 0.22984690265486726\n",
      "  model = cd_fast.enet_coordinate_descent(\n",
      "/Users/rayfregly/anaconda3/lib/python3.8/site-packages/sklearn/linear_model/_coordinate_descent.py:529: ConvergenceWarning: Objective did not converge. You might want to increase the number of iterations. Duality gap: 4.53447057450048, tolerance: 0.23055199115044198\n",
      "  model = cd_fast.enet_coordinate_descent(\n",
      "/Users/rayfregly/anaconda3/lib/python3.8/site-packages/sklearn/linear_model/_coordinate_descent.py:529: ConvergenceWarning: Objective did not converge. You might want to increase the number of iterations. Duality gap: 1.397687771577239, tolerance: 0.23018888274336302\n",
      "  model = cd_fast.enet_coordinate_descent(\n",
      "/Users/rayfregly/anaconda3/lib/python3.8/site-packages/sklearn/linear_model/_coordinate_descent.py:529: UserWarning: Coordinate descent with no regularization may lead to unexpected results and is discouraged.\n",
      "  model = cd_fast.enet_coordinate_descent(\n",
      "/Users/rayfregly/anaconda3/lib/python3.8/site-packages/sklearn/linear_model/_coordinate_descent.py:529: ConvergenceWarning: Objective did not converge. You might want to increase the number of iterations. Duality gap: 4.7264058700348635, tolerance: 0.22715790929203458\n",
      "  model = cd_fast.enet_coordinate_descent(\n",
      "/Users/rayfregly/anaconda3/lib/python3.8/site-packages/sklearn/linear_model/_coordinate_descent.py:529: ConvergenceWarning: Objective did not converge. You might want to increase the number of iterations. Duality gap: 0.34926535205818254, tolerance: 0.2311795907079653\n",
      "  model = cd_fast.enet_coordinate_descent(\n",
      "/Users/rayfregly/anaconda3/lib/python3.8/site-packages/sklearn/linear_model/_coordinate_descent.py:529: ConvergenceWarning: Objective did not converge. You might want to increase the number of iterations. Duality gap: 2.6219208901184174, tolerance: 0.22801852876106152\n",
      "  model = cd_fast.enet_coordinate_descent(\n",
      "/Users/rayfregly/anaconda3/lib/python3.8/site-packages/sklearn/linear_model/_coordinate_descent.py:529: ConvergenceWarning: Objective did not converge. You might want to increase the number of iterations. Duality gap: 4.822653300952501, tolerance: 0.22551675884955755\n",
      "  model = cd_fast.enet_coordinate_descent(\n",
      "/Users/rayfregly/anaconda3/lib/python3.8/site-packages/sklearn/linear_model/_coordinate_descent.py:529: ConvergenceWarning: Objective did not converge. You might want to increase the number of iterations. Duality gap: 4.708085715256482, tolerance: 0.23018888274336302\n",
      "  model = cd_fast.enet_coordinate_descent(\n",
      "/Users/rayfregly/anaconda3/lib/python3.8/site-packages/sklearn/linear_model/_coordinate_descent.py:529: ConvergenceWarning: Objective did not converge. You might want to increase the number of iterations. Duality gap: 2.586408131036581, tolerance: 0.2311795907079653\n",
      "  model = cd_fast.enet_coordinate_descent(\n",
      "/Users/rayfregly/anaconda3/lib/python3.8/site-packages/sklearn/linear_model/_coordinate_descent.py:529: ConvergenceWarning: Objective did not converge. You might want to increase the number of iterations. Duality gap: 4.484577071387611, tolerance: 0.22801852876106152\n",
      "  model = cd_fast.enet_coordinate_descent(\n",
      "/Users/rayfregly/anaconda3/lib/python3.8/site-packages/sklearn/linear_model/_coordinate_descent.py:529: ConvergenceWarning: Objective did not converge. You might want to increase the number of iterations. Duality gap: 0.25198875422427136, tolerance: 0.13619800884955724\n",
      "  model = cd_fast.enet_coordinate_descent(\n",
      "/Users/rayfregly/anaconda3/lib/python3.8/site-packages/sklearn/linear_model/_coordinate_descent.py:529: ConvergenceWarning: Objective did not converge. You might want to increase the number of iterations. Duality gap: 0.21313405331909507, tolerance: 0.13499800884955718\n",
      "  model = cd_fast.enet_coordinate_descent(\n",
      "/Users/rayfregly/anaconda3/lib/python3.8/site-packages/sklearn/linear_model/_coordinate_descent.py:529: ConvergenceWarning: Objective did not converge. You might want to increase the number of iterations. Duality gap: 0.2672019445519709, tolerance: 0.13698915929203545\n",
      "  model = cd_fast.enet_coordinate_descent(\n",
      "/Users/rayfregly/anaconda3/lib/python3.8/site-packages/sklearn/linear_model/_coordinate_descent.py:529: ConvergenceWarning: Objective did not converge. You might want to increase the number of iterations. Duality gap: 1.4124813907421867, tolerance: 0.13579977876106114\n",
      "  model = cd_fast.enet_coordinate_descent(\n",
      "/Users/rayfregly/anaconda3/lib/python3.8/site-packages/sklearn/linear_model/_coordinate_descent.py:529: ConvergenceWarning: Objective did not converge. You might want to increase the number of iterations. Duality gap: 0.26295298216393803, tolerance: 0.13499800884955718\n",
      "  model = cd_fast.enet_coordinate_descent(\n",
      "/Users/rayfregly/anaconda3/lib/python3.8/site-packages/sklearn/linear_model/_coordinate_descent.py:529: ConvergenceWarning: Objective did not converge. You might want to increase the number of iterations. Duality gap: 2.4048302025740687, tolerance: 0.1369891592920355\n",
      "  model = cd_fast.enet_coordinate_descent(\n",
      "/Users/rayfregly/anaconda3/lib/python3.8/site-packages/sklearn/linear_model/_coordinate_descent.py:529: ConvergenceWarning: Objective did not converge. You might want to increase the number of iterations. Duality gap: 2.497525049712764, tolerance: 0.1357997787610612\n",
      "  model = cd_fast.enet_coordinate_descent(\n",
      "/Users/rayfregly/anaconda3/lib/python3.8/site-packages/sklearn/linear_model/_coordinate_descent.py:529: ConvergenceWarning: Objective did not converge. You might want to increase the number of iterations. Duality gap: 2.032824705980055, tolerance: 0.13499800884955718\n",
      "  model = cd_fast.enet_coordinate_descent(\n",
      "/Users/rayfregly/anaconda3/lib/python3.8/site-packages/sklearn/linear_model/_coordinate_descent.py:529: ConvergenceWarning: Objective did not converge. You might want to increase the number of iterations. Duality gap: 2.353176159850585, tolerance: 0.13698915929203545\n",
      "  model = cd_fast.enet_coordinate_descent(\n",
      "/Users/rayfregly/anaconda3/lib/python3.8/site-packages/sklearn/linear_model/_coordinate_descent.py:529: ConvergenceWarning: Objective did not converge. You might want to increase the number of iterations. Duality gap: 1.8323328581594147, tolerance: 0.13579977876106114\n",
      "  model = cd_fast.enet_coordinate_descent(\n",
      "/Users/rayfregly/anaconda3/lib/python3.8/site-packages/sklearn/linear_model/_coordinate_descent.py:529: ConvergenceWarning: Objective did not converge. You might want to increase the number of iterations. Duality gap: 2.3660111887044715, tolerance: 0.13499800884955718\n",
      "  model = cd_fast.enet_coordinate_descent(\n",
      "/Users/rayfregly/anaconda3/lib/python3.8/site-packages/sklearn/linear_model/_coordinate_descent.py:529: ConvergenceWarning: Objective did not converge. You might want to increase the number of iterations. Duality gap: 2.3647659417479936, tolerance: 0.13519911504424814\n",
      "  model = cd_fast.enet_coordinate_descent(\n",
      "/Users/rayfregly/anaconda3/lib/python3.8/site-packages/sklearn/linear_model/_coordinate_descent.py:529: ConvergenceWarning: Objective did not converge. You might want to increase the number of iterations. Duality gap: 2.4773220197435366, tolerance: 0.13619800884955724\n",
      "  model = cd_fast.enet_coordinate_descent(\n",
      "/Users/rayfregly/anaconda3/lib/python3.8/site-packages/sklearn/linear_model/_coordinate_descent.py:529: UserWarning: Coordinate descent with no regularization may lead to unexpected results and is discouraged.\n",
      "  model = cd_fast.enet_coordinate_descent(\n",
      "/Users/rayfregly/anaconda3/lib/python3.8/site-packages/sklearn/linear_model/_coordinate_descent.py:529: ConvergenceWarning: Objective did not converge. You might want to increase the number of iterations. Duality gap: 0.14132404909571505, tolerance: 0.13439203539822972\n",
      "  model = cd_fast.enet_coordinate_descent(\n",
      "/Users/rayfregly/anaconda3/lib/python3.8/site-packages/sklearn/linear_model/_coordinate_descent.py:529: ConvergenceWarning: Objective did not converge. You might want to increase the number of iterations. Duality gap: 0.4070476733121495, tolerance: 0.1356\n",
      "  model = cd_fast.enet_coordinate_descent(\n",
      "/Users/rayfregly/anaconda3/lib/python3.8/site-packages/sklearn/linear_model/_coordinate_descent.py:529: ConvergenceWarning: Objective did not converge. You might want to increase the number of iterations. Duality gap: 0.27800633431093047, tolerance: 0.13479646017699115\n",
      "  model = cd_fast.enet_coordinate_descent(\n",
      "/Users/rayfregly/anaconda3/lib/python3.8/site-packages/sklearn/linear_model/_coordinate_descent.py:529: ConvergenceWarning: Objective did not converge. You might want to increase the number of iterations. Duality gap: 1.48586550237883, tolerance: 0.13459446902654917\n",
      "  model = cd_fast.enet_coordinate_descent(\n",
      "/Users/rayfregly/anaconda3/lib/python3.8/site-packages/sklearn/linear_model/_coordinate_descent.py:529: ConvergenceWarning: Objective did not converge. You might want to increase the number of iterations. Duality gap: 1.8715979287944169, tolerance: 0.13659446902654876\n",
      "  model = cd_fast.enet_coordinate_descent(\n",
      "/Users/rayfregly/anaconda3/lib/python3.8/site-packages/sklearn/linear_model/_coordinate_descent.py:529: ConvergenceWarning: Objective did not converge. You might want to increase the number of iterations. Duality gap: 1.3747836751428055, tolerance: 0.13582487562189108\n",
      "  model = cd_fast.enet_coordinate_descent(\n",
      "/Users/rayfregly/anaconda3/lib/python3.8/site-packages/sklearn/linear_model/_coordinate_descent.py:529: ConvergenceWarning: Objective did not converge. You might want to increase the number of iterations. Duality gap: 2.3436922623722487, tolerance: 0.1356\n",
      "  model = cd_fast.enet_coordinate_descent(\n",
      "/Users/rayfregly/anaconda3/lib/python3.8/site-packages/sklearn/linear_model/_coordinate_descent.py:529: ConvergenceWarning: Objective did not converge. You might want to increase the number of iterations. Duality gap: 2.4526792801584856, tolerance: 0.13757787610619457\n",
      "  model = cd_fast.enet_coordinate_descent(\n",
      "/Users/rayfregly/anaconda3/lib/python3.8/site-packages/sklearn/linear_model/_coordinate_descent.py:529: ConvergenceWarning: Objective did not converge. You might want to increase the number of iterations. Duality gap: 2.34139188597992, tolerance: 0.13439203539822972\n",
      "  model = cd_fast.enet_coordinate_descent(\n",
      "/Users/rayfregly/anaconda3/lib/python3.8/site-packages/sklearn/linear_model/_coordinate_descent.py:529: ConvergenceWarning: Objective did not converge. You might want to increase the number of iterations. Duality gap: 2.4932395254275854, tolerance: 0.1356\n",
      "  model = cd_fast.enet_coordinate_descent(\n",
      "/Users/rayfregly/anaconda3/lib/python3.8/site-packages/sklearn/linear_model/_coordinate_descent.py:529: ConvergenceWarning: Objective did not converge. You might want to increase the number of iterations. Duality gap: 2.4254184490985677, tolerance: 0.13479646017699115\n",
      "  model = cd_fast.enet_coordinate_descent(\n",
      "/Users/rayfregly/anaconda3/lib/python3.8/site-packages/sklearn/linear_model/_coordinate_descent.py:529: UserWarning: Coordinate descent with no regularization may lead to unexpected results and is discouraged.\n",
      "  model = cd_fast.enet_coordinate_descent(\n",
      "/Users/rayfregly/anaconda3/lib/python3.8/site-packages/sklearn/linear_model/_coordinate_descent.py:529: ConvergenceWarning: Objective did not converge. You might want to increase the number of iterations. Duality gap: 2.3249741843102787, tolerance: 0.13777323008849576\n",
      "  model = cd_fast.enet_coordinate_descent(\n",
      "/Users/rayfregly/anaconda3/lib/python3.8/site-packages/sklearn/linear_model/_coordinate_descent.py:529: ConvergenceWarning: Objective did not converge. You might want to increase the number of iterations. Duality gap: 0.7834240204873093, tolerance: 0.1348210060807076\n",
      "  model = cd_fast.enet_coordinate_descent(\n",
      "/Users/rayfregly/anaconda3/lib/python3.8/site-packages/sklearn/linear_model/_coordinate_descent.py:529: ConvergenceWarning: Objective did not converge. You might want to increase the number of iterations. Duality gap: 0.6351960650608817, tolerance: 0.13459446902654917\n",
      "  model = cd_fast.enet_coordinate_descent(\n",
      "/Users/rayfregly/anaconda3/lib/python3.8/site-packages/sklearn/linear_model/_coordinate_descent.py:529: ConvergenceWarning: Objective did not converge. You might want to increase the number of iterations. Duality gap: 1.465478404276665, tolerance: 0.13599911504424814\n",
      "  model = cd_fast.enet_coordinate_descent(\n",
      "/Users/rayfregly/anaconda3/lib/python3.8/site-packages/sklearn/linear_model/_coordinate_descent.py:529: ConvergenceWarning: Objective did not converge. You might want to increase the number of iterations. Duality gap: 2.165934248598995, tolerance: 0.13519911504424814\n",
      "  model = cd_fast.enet_coordinate_descent(\n",
      "/Users/rayfregly/anaconda3/lib/python3.8/site-packages/sklearn/linear_model/_coordinate_descent.py:529: ConvergenceWarning: Objective did not converge. You might want to increase the number of iterations. Duality gap: 2.3526004689934097, tolerance: 0.1333732300884954\n",
      "  model = cd_fast.enet_coordinate_descent(\n",
      "/Users/rayfregly/anaconda3/lib/python3.8/site-packages/sklearn/linear_model/_coordinate_descent.py:529: ConvergenceWarning: Objective did not converge. You might want to increase the number of iterations. Duality gap: 2.486500378646458, tolerance: 0.13418915929203504\n",
      "  model = cd_fast.enet_coordinate_descent(\n",
      "/Users/rayfregly/anaconda3/lib/python3.8/site-packages/sklearn/linear_model/_coordinate_descent.py:529: ConvergenceWarning: Objective did not converge. You might want to increase the number of iterations. Duality gap: 2.4014425472889527, tolerance: 0.13459446902654917\n",
      "  model = cd_fast.enet_coordinate_descent(\n",
      "/Users/rayfregly/anaconda3/lib/python3.8/site-packages/sklearn/linear_model/_coordinate_descent.py:529: ConvergenceWarning: Objective did not converge. You might want to increase the number of iterations. Duality gap: 2.292986975119086, tolerance: 0.13539977876106116\n",
      "  model = cd_fast.enet_coordinate_descent(\n",
      "/Users/rayfregly/anaconda3/lib/python3.8/site-packages/sklearn/linear_model/_coordinate_descent.py:529: ConvergenceWarning: Objective did not converge. You might want to increase the number of iterations. Duality gap: 0.339812021161606, tolerance: 0.13599911504424814\n",
      "  model = cd_fast.enet_coordinate_descent(\n",
      "/Users/rayfregly/anaconda3/lib/python3.8/site-packages/sklearn/linear_model/_coordinate_descent.py:529: UserWarning: Coordinate descent with no regularization may lead to unexpected results and is discouraged.\n",
      "  model = cd_fast.enet_coordinate_descent(\n",
      "/Users/rayfregly/anaconda3/lib/python3.8/site-packages/sklearn/linear_model/_coordinate_descent.py:529: ConvergenceWarning: Objective did not converge. You might want to increase the number of iterations. Duality gap: 1.7756303249821819, tolerance: 0.13599911504424814\n",
      "  model = cd_fast.enet_coordinate_descent(\n",
      "/Users/rayfregly/anaconda3/lib/python3.8/site-packages/sklearn/linear_model/_coordinate_descent.py:529: ConvergenceWarning: Objective did not converge. You might want to increase the number of iterations. Duality gap: 0.7676115419626512, tolerance: 0.13757787610619457\n",
      "  model = cd_fast.enet_coordinate_descent(\n",
      "/Users/rayfregly/anaconda3/lib/python3.8/site-packages/sklearn/linear_model/_coordinate_descent.py:529: ConvergenceWarning: Objective did not converge. You might want to increase the number of iterations. Duality gap: 1.9007458907843253, tolerance: 0.13893606194690303\n",
      "  model = cd_fast.enet_coordinate_descent(\n",
      "/Users/rayfregly/anaconda3/lib/python3.8/site-packages/sklearn/linear_model/_coordinate_descent.py:529: ConvergenceWarning: Objective did not converge. You might want to increase the number of iterations. Duality gap: 2.3844193215443568, tolerance: 0.13499800884955718\n",
      "  model = cd_fast.enet_coordinate_descent(\n",
      "/Users/rayfregly/anaconda3/lib/python3.8/site-packages/sklearn/linear_model/_coordinate_descent.py:529: ConvergenceWarning: Objective did not converge. You might want to increase the number of iterations. Duality gap: 1.4501492216507463, tolerance: 0.1371858407079647\n",
      "  model = cd_fast.enet_coordinate_descent(\n",
      "/Users/rayfregly/anaconda3/lib/python3.8/site-packages/sklearn/linear_model/_coordinate_descent.py:529: ConvergenceWarning: Objective did not converge. You might want to increase the number of iterations. Duality gap: 2.4576269700232576, tolerance: 0.1340099502487562\n",
      "  model = cd_fast.enet_coordinate_descent(\n",
      "/Users/rayfregly/anaconda3/lib/python3.8/site-packages/sklearn/linear_model/_coordinate_descent.py:529: ConvergenceWarning: Objective did not converge. You might want to increase the number of iterations. Duality gap: 1.8160765272928339, tolerance: 0.13757787610619457\n",
      "  model = cd_fast.enet_coordinate_descent(\n"
     ]
    },
    {
     "name": "stdout",
     "output_type": "stream",
     "text": [
      "0.01\n"
     ]
    }
   ],
   "source": [
    "#model for pos/negative review\n",
    "\n",
    "from numpy import arange\n",
    "from sklearn.linear_model import LassoCV\n",
    "from sklearn.model_selection import RepeatedKFold\n",
    "\n",
    "cv = RepeatedKFold(n_splits=10, n_repeats=3, random_state=1)\n",
    "\n",
    "model = LassoCV(alphas=arange(0, 1, 0.01), cv=cv, n_jobs=-1)\n",
    "\n",
    "model.fit(X_train, y_train)\n",
    "\n",
    "print(model.alpha_)"
   ]
  },
  {
   "cell_type": "code",
   "execution_count": 49,
   "metadata": {},
   "outputs": [
    {
     "name": "stdout",
     "output_type": "stream",
     "text": [
      "38.8329756778952\n"
     ]
    }
   ],
   "source": [
    "y_hat = model.predict(X_train)\n",
    "\n",
    "def reg_score(y_hat):\n",
    "    for i, val in enumerate(y_hat):\n",
    "        if val < 0:\n",
    "            y_hat[i] = -1\n",
    "        else:\n",
    "            y_hat[i] = 1\n",
    "    return y_hat\n",
    "\n",
    "y_hat = reg_score(y_hat)\n",
    "loss = np.linalg.norm(y_hat - y_train)\n",
    "print(loss)"
   ]
  },
  {
   "cell_type": "code",
   "execution_count": 50,
   "metadata": {},
   "outputs": [
    {
     "name": "stdout",
     "output_type": "stream",
     "text": [
      "19.697715603592208\n"
     ]
    }
   ],
   "source": [
    "y_hat_test = model.predict(X_test)\n",
    "y_hat_test = reg_score(y_hat_test)\n",
    "loss = np.linalg.norm(y_hat_test - y_test)\n",
    "print(loss)"
   ]
  },
  {
   "cell_type": "code",
   "execution_count": 55,
   "metadata": {},
   "outputs": [
    {
     "name": "stdout",
     "output_type": "stream",
     "text": [
      "[5. 2. 5. 1. 3. 3. 4. 5. 5. 3. 4. 4. 4. 4. 4. 1. 3. 5. 3. 5. 5. 4. 5. 3.\n",
      " 4. 4. 5. 5. 5. 2. 3. 5. 5. 4. 1. 5. 4. 5. 4. 2. 5. 4. 4. 5. 5. 5. 4. 5.\n",
      " 3. 4. 2. 4. 4. 4. 5. 4. 4. 5. 5. 2. 5. 5. 5. 5. 4. 4. 5. 4. 3. 1. 2. 3.\n",
      " 3. 3. 4. 5. 5. 4. 4. 5. 3. 4. 3. 5. 4. 1. 1. 5. 4. 3. 3. 4. 2. 3. 4. 5.\n",
      " 3. 2. 1. 5. 5. 3. 5. 4. 4. 3. 5. 5. 5. 5. 3. 3. 2. 1. 3. 4. 1. 3. 2. 5.\n",
      " 2. 2. 3. 4. 4. 5. 5. 3. 5. 4. 5. 3. 5. 5. 4. 2. 4. 4. 5. 4. 4. 2. 2. 3.\n",
      " 4. 4. 4. 5. 2. 3. 4. 4. 4. 3. 4. 2. 4. 5. 4. 4. 5. 5. 5. 5. 4. 3. 4. 3.\n",
      " 5. 5. 5. 5. 4. 3. 2. 5. 3. 5. 5. 5. 5. 5. 5. 4. 4. 1. 4. 4. 5. 5. 5. 4.\n",
      " 4. 2. 4. 5. 5. 4. 4. 5. 5. 4. 4. 5. 2. 4. 5. 4. 2. 5. 5. 5. 4. 4. 2. 4.\n",
      " 1. 5. 5. 5. 5. 5. 5. 1. 5. 5. 4. 4. 5. 4. 5. 5. 2. 2. 4. 5. 4. 1. 5. 1.\n",
      " 4. 5. 5. 5. 5. 5. 5. 3. 4. 5. 4. 2. 3. 2. 4. 4. 5. 5. 3. 1. 5. 4. 4. 4.\n",
      " 5. 3. 5. 4. 4. 4. 4. 4. 5. 5. 5. 5. 5. 5. 5. 5. 4. 5. 5. 4. 4. 4. 5. 5.\n",
      " 5. 4. 5. 5. 5. 5. 5. 5. 5. 4. 5. 5. 5. 5. 5. 4. 5. 5. 5. 5. 4. 5. 4. 5.\n",
      " 5. 1. 5. 3. 4. 5. 4. 5. 4. 4. 4. 4. 5. 4. 4. 5. 5. 4. 4. 5. 5. 3. 4. 4.\n",
      " 4. 4. 5. 5. 4. 5. 5. 3. 4. 5. 5. 4. 4. 5. 4. 4. 5. 4. 4. 4. 4. 3. 5. 4.\n",
      " 4. 4. 5. 5. 4. 4. 4. 5. 4. 5. 5. 4. 5. 5. 5. 5. 5. 5. 4. 4. 5. 5. 5. 5.\n",
      " 5. 4. 4. 4. 5. 5. 5. 4. 4. 5. 5. 5. 5. 5. 5. 5. 4. 4. 5. 5. 5. 4. 5. 5.\n",
      " 5. 5. 4. 5. 4. 5. 4. 5. 5. 5. 4. 4. 5. 5. 5. 5. 4. 5. 5. 5. 4. 4. 4. 5.\n",
      " 5. 4. 4. 5. 4. 4. 5. 5. 4. 5. 5. 5. 4. 5. 4. 4. 5. 4. 5. 5. 4. 5. 5. 4.\n",
      " 5. 5. 4. 4. 4. 5. 4. 5. 5. 5. 4. 4. 4. 5. 3. 4. 4. 3. 2. 3. 2. 4. 1. 3.\n",
      " 3. 2. 3. 3. 2. 4. 4. 4. 4. 3. 4. 3. 4. 3. 3. 2. 4. 4. 5. 3. 1. 4.]\n"
     ]
    },
    {
     "name": "stderr",
     "output_type": "stream",
     "text": [
      "/Users/rayfregly/anaconda3/lib/python3.8/site-packages/sklearn/linear_model/_coordinate_descent.py:529: UserWarning: Coordinate descent with no regularization may lead to unexpected results and is discouraged.\n",
      "  model = cd_fast.enet_coordinate_descent(\n",
      "/Users/rayfregly/anaconda3/lib/python3.8/site-packages/sklearn/linear_model/_coordinate_descent.py:529: ConvergenceWarning: Objective did not converge. You might want to increase the number of iterations. Duality gap: 2.3647659417479936, tolerance: 0.13519911504424814\n",
      "  model = cd_fast.enet_coordinate_descent(\n",
      "/Users/rayfregly/anaconda3/lib/python3.8/site-packages/sklearn/linear_model/_coordinate_descent.py:529: ConvergenceWarning: Objective did not converge. You might want to increase the number of iterations. Duality gap: 0.25198875422427136, tolerance: 0.13619800884955724\n",
      "  model = cd_fast.enet_coordinate_descent(\n",
      "/Users/rayfregly/anaconda3/lib/python3.8/site-packages/sklearn/linear_model/_coordinate_descent.py:529: ConvergenceWarning: Objective did not converge. You might want to increase the number of iterations. Duality gap: 0.21313405331909507, tolerance: 0.13499800884955718\n",
      "  model = cd_fast.enet_coordinate_descent(\n",
      "/Users/rayfregly/anaconda3/lib/python3.8/site-packages/sklearn/linear_model/_coordinate_descent.py:529: ConvergenceWarning: Objective did not converge. You might want to increase the number of iterations. Duality gap: 2.4773220197435366, tolerance: 0.13619800884955724\n",
      "  model = cd_fast.enet_coordinate_descent(\n",
      "/Users/rayfregly/anaconda3/lib/python3.8/site-packages/sklearn/linear_model/_coordinate_descent.py:529: ConvergenceWarning: Objective did not converge. You might want to increase the number of iterations. Duality gap: 0.26295298216393803, tolerance: 0.13499800884955718\n",
      "  model = cd_fast.enet_coordinate_descent(\n",
      "/Users/rayfregly/anaconda3/lib/python3.8/site-packages/sklearn/linear_model/_coordinate_descent.py:529: ConvergenceWarning: Objective did not converge. You might want to increase the number of iterations. Duality gap: 1.4124813907421867, tolerance: 0.13579977876106114\n",
      "  model = cd_fast.enet_coordinate_descent(\n",
      "/Users/rayfregly/anaconda3/lib/python3.8/site-packages/sklearn/linear_model/_coordinate_descent.py:529: ConvergenceWarning: Objective did not converge. You might want to increase the number of iterations. Duality gap: 2.032824705980055, tolerance: 0.13499800884955718\n",
      "  model = cd_fast.enet_coordinate_descent(\n",
      "/Users/rayfregly/anaconda3/lib/python3.8/site-packages/sklearn/linear_model/_coordinate_descent.py:529: ConvergenceWarning: Objective did not converge. You might want to increase the number of iterations. Duality gap: 2.3660111887044715, tolerance: 0.13499800884955718\n",
      "  model = cd_fast.enet_coordinate_descent(\n",
      "/Users/rayfregly/anaconda3/lib/python3.8/site-packages/sklearn/linear_model/_coordinate_descent.py:529: ConvergenceWarning: Objective did not converge. You might want to increase the number of iterations. Duality gap: 2.4048302025740687, tolerance: 0.1369891592920355\n",
      "  model = cd_fast.enet_coordinate_descent(\n",
      "/Users/rayfregly/anaconda3/lib/python3.8/site-packages/sklearn/linear_model/_coordinate_descent.py:529: ConvergenceWarning: Objective did not converge. You might want to increase the number of iterations. Duality gap: 0.2672019445519709, tolerance: 0.13698915929203545\n",
      "  model = cd_fast.enet_coordinate_descent(\n",
      "/Users/rayfregly/anaconda3/lib/python3.8/site-packages/sklearn/linear_model/_coordinate_descent.py:529: ConvergenceWarning: Objective did not converge. You might want to increase the number of iterations. Duality gap: 2.353176159850585, tolerance: 0.13698915929203545\n",
      "  model = cd_fast.enet_coordinate_descent(\n",
      "/Users/rayfregly/anaconda3/lib/python3.8/site-packages/sklearn/linear_model/_coordinate_descent.py:529: ConvergenceWarning: Objective did not converge. You might want to increase the number of iterations. Duality gap: 0.36927251401766625, tolerance: 0.22715790929203458\n",
      "  model = cd_fast.enet_coordinate_descent(\n",
      "/Users/rayfregly/anaconda3/lib/python3.8/site-packages/sklearn/linear_model/_coordinate_descent.py:529: ConvergenceWarning: Objective did not converge. You might want to increase the number of iterations. Duality gap: 0.7054391869444316, tolerance: 0.22920353982300853\n",
      "  model = cd_fast.enet_coordinate_descent(\n",
      "/Users/rayfregly/anaconda3/lib/python3.8/site-packages/sklearn/linear_model/_coordinate_descent.py:529: ConvergenceWarning: Objective did not converge. You might want to increase the number of iterations. Duality gap: 2.497525049712764, tolerance: 0.1357997787610612\n",
      "  model = cd_fast.enet_coordinate_descent(\n",
      "/Users/rayfregly/anaconda3/lib/python3.8/site-packages/sklearn/linear_model/_coordinate_descent.py:529: ConvergenceWarning: Objective did not converge. You might want to increase the number of iterations. Duality gap: 4.53447057450048, tolerance: 0.23055199115044198\n",
      "  model = cd_fast.enet_coordinate_descent(\n",
      "/Users/rayfregly/anaconda3/lib/python3.8/site-packages/sklearn/linear_model/_coordinate_descent.py:529: ConvergenceWarning: Objective did not converge. You might want to increase the number of iterations. Duality gap: 4.752289133543394, tolerance: 0.22984690265486726\n",
      "  model = cd_fast.enet_coordinate_descent(\n",
      "/Users/rayfregly/anaconda3/lib/python3.8/site-packages/sklearn/linear_model/_coordinate_descent.py:529: ConvergenceWarning: Objective did not converge. You might want to increase the number of iterations. Duality gap: 1.8323328581594147, tolerance: 0.13579977876106114\n",
      "  model = cd_fast.enet_coordinate_descent(\n",
      "/Users/rayfregly/anaconda3/lib/python3.8/site-packages/sklearn/linear_model/_coordinate_descent.py:529: ConvergenceWarning: Objective did not converge. You might want to increase the number of iterations. Duality gap: 1.397687771577239, tolerance: 0.23018888274336302\n",
      "  model = cd_fast.enet_coordinate_descent(\n",
      "/Users/rayfregly/anaconda3/lib/python3.8/site-packages/sklearn/linear_model/_coordinate_descent.py:529: ConvergenceWarning: Objective did not converge. You might want to increase the number of iterations. Duality gap: 2.6219208901184174, tolerance: 0.22801852876106152\n",
      "  model = cd_fast.enet_coordinate_descent(\n",
      "/Users/rayfregly/anaconda3/lib/python3.8/site-packages/sklearn/linear_model/_coordinate_descent.py:529: ConvergenceWarning: Objective did not converge. You might want to increase the number of iterations. Duality gap: 0.34926535205818254, tolerance: 0.2311795907079653\n",
      "  model = cd_fast.enet_coordinate_descent(\n",
      "/Users/rayfregly/anaconda3/lib/python3.8/site-packages/sklearn/linear_model/_coordinate_descent.py:529: ConvergenceWarning: Objective did not converge. You might want to increase the number of iterations. Duality gap: 4.708085715256482, tolerance: 0.23018888274336302\n",
      "  model = cd_fast.enet_coordinate_descent(\n",
      "/Users/rayfregly/anaconda3/lib/python3.8/site-packages/sklearn/linear_model/_coordinate_descent.py:529: ConvergenceWarning: Objective did not converge. You might want to increase the number of iterations. Duality gap: 2.586408131036581, tolerance: 0.2311795907079653\n",
      "  model = cd_fast.enet_coordinate_descent(\n",
      "/Users/rayfregly/anaconda3/lib/python3.8/site-packages/sklearn/linear_model/_coordinate_descent.py:529: ConvergenceWarning: Objective did not converge. You might want to increase the number of iterations. Duality gap: 4.822653300952501, tolerance: 0.22551675884955755\n",
      "  model = cd_fast.enet_coordinate_descent(\n",
      "/Users/rayfregly/anaconda3/lib/python3.8/site-packages/sklearn/linear_model/_coordinate_descent.py:529: ConvergenceWarning: Objective did not converge. You might want to increase the number of iterations. Duality gap: 4.519818598369942, tolerance: 0.22920353982300853\n",
      "  model = cd_fast.enet_coordinate_descent(\n",
      "/Users/rayfregly/anaconda3/lib/python3.8/site-packages/sklearn/linear_model/_coordinate_descent.py:529: ConvergenceWarning: Objective did not converge. You might want to increase the number of iterations. Duality gap: 4.7264058700348635, tolerance: 0.22715790929203458\n",
      "  model = cd_fast.enet_coordinate_descent(\n",
      "/Users/rayfregly/anaconda3/lib/python3.8/site-packages/sklearn/linear_model/_coordinate_descent.py:529: ConvergenceWarning: Objective did not converge. You might want to increase the number of iterations. Duality gap: 4.484577071387611, tolerance: 0.22801852876106152\n",
      "  model = cd_fast.enet_coordinate_descent(\n",
      "/Users/rayfregly/anaconda3/lib/python3.8/site-packages/sklearn/linear_model/_coordinate_descent.py:529: UserWarning: Coordinate descent with no regularization may lead to unexpected results and is discouraged.\n",
      "  model = cd_fast.enet_coordinate_descent(\n",
      "/Users/rayfregly/anaconda3/lib/python3.8/site-packages/sklearn/linear_model/_coordinate_descent.py:529: ConvergenceWarning: Objective did not converge. You might want to increase the number of iterations. Duality gap: 2.0456045453968272, tolerance: 0.22280353982300846\n",
      "  model = cd_fast.enet_coordinate_descent(\n",
      "/Users/rayfregly/anaconda3/lib/python3.8/site-packages/sklearn/linear_model/_coordinate_descent.py:529: ConvergenceWarning: Objective did not converge. You might want to increase the number of iterations. Duality gap: 0.35704884522010616, tolerance: 0.2276218905472642\n",
      "  model = cd_fast.enet_coordinate_descent(\n",
      "/Users/rayfregly/anaconda3/lib/python3.8/site-packages/sklearn/linear_model/_coordinate_descent.py:529: ConvergenceWarning: Objective did not converge. You might want to increase the number of iterations. Duality gap: 1.1556091680633926, tolerance: 0.23135199115044217\n",
      "  model = cd_fast.enet_coordinate_descent(\n",
      "/Users/rayfregly/anaconda3/lib/python3.8/site-packages/sklearn/linear_model/_coordinate_descent.py:529: ConvergenceWarning: Objective did not converge. You might want to increase the number of iterations. Duality gap: 0.6432069312959356, tolerance: 0.23111321902654883\n",
      "  model = cd_fast.enet_coordinate_descent(\n",
      "/Users/rayfregly/anaconda3/lib/python3.8/site-packages/sklearn/linear_model/_coordinate_descent.py:529: ConvergenceWarning: Objective did not converge. You might want to increase the number of iterations. Duality gap: 0.9431953565456297, tolerance: 0.2290469026548672\n",
      "  model = cd_fast.enet_coordinate_descent(\n",
      "/Users/rayfregly/anaconda3/lib/python3.8/site-packages/sklearn/linear_model/_coordinate_descent.py:529: ConvergenceWarning: Objective did not converge. You might want to increase the number of iterations. Duality gap: 4.59143181541374, tolerance: 0.22735486725663714\n",
      "  model = cd_fast.enet_coordinate_descent(\n",
      "/Users/rayfregly/anaconda3/lib/python3.8/site-packages/sklearn/linear_model/_coordinate_descent.py:529: ConvergenceWarning: Objective did not converge. You might want to increase the number of iterations. Duality gap: 4.680930701762188, tolerance: 0.22280353982300846\n",
      "  model = cd_fast.enet_coordinate_descent(\n",
      "/Users/rayfregly/anaconda3/lib/python3.8/site-packages/sklearn/linear_model/_coordinate_descent.py:529: ConvergenceWarning: Objective did not converge. You might want to increase the number of iterations. Duality gap: 1.0611018728684485, tolerance: 0.230263495575221\n",
      "  model = cd_fast.enet_coordinate_descent(\n",
      "/Users/rayfregly/anaconda3/lib/python3.8/site-packages/sklearn/linear_model/_coordinate_descent.py:529: ConvergenceWarning: Objective did not converge. You might want to increase the number of iterations. Duality gap: 4.377751408767862, tolerance: 0.2276218905472642\n",
      "  model = cd_fast.enet_coordinate_descent(\n",
      "/Users/rayfregly/anaconda3/lib/python3.8/site-packages/sklearn/linear_model/_coordinate_descent.py:529: ConvergenceWarning: Objective did not converge. You might want to increase the number of iterations. Duality gap: 4.707274852578433, tolerance: 0.23135199115044217\n",
      "  model = cd_fast.enet_coordinate_descent(\n",
      "/Users/rayfregly/anaconda3/lib/python3.8/site-packages/sklearn/linear_model/_coordinate_descent.py:529: ConvergenceWarning: Objective did not converge. You might want to increase the number of iterations. Duality gap: 1.213263507540903, tolerance: 0.22437676991150401\n",
      "  model = cd_fast.enet_coordinate_descent(\n",
      "/Users/rayfregly/anaconda3/lib/python3.8/site-packages/sklearn/linear_model/_coordinate_descent.py:529: ConvergenceWarning: Objective did not converge. You might want to increase the number of iterations. Duality gap: 4.710693752880091, tolerance: 0.23111321902654883\n",
      "  model = cd_fast.enet_coordinate_descent(\n",
      "/Users/rayfregly/anaconda3/lib/python3.8/site-packages/sklearn/linear_model/_coordinate_descent.py:529: ConvergenceWarning: Objective did not converge. You might want to increase the number of iterations. Duality gap: 4.361177195899202, tolerance: 0.2290469026548672\n",
      "  model = cd_fast.enet_coordinate_descent(\n",
      "/Users/rayfregly/anaconda3/lib/python3.8/site-packages/sklearn/linear_model/_coordinate_descent.py:529: ConvergenceWarning: Objective did not converge. You might want to increase the number of iterations. Duality gap: 4.676836295590508, tolerance: 0.230263495575221\n",
      "  model = cd_fast.enet_coordinate_descent(\n",
      "/Users/rayfregly/anaconda3/lib/python3.8/site-packages/sklearn/linear_model/_coordinate_descent.py:529: ConvergenceWarning: Objective did not converge. You might want to increase the number of iterations. Duality gap: 0.5383805994338218, tolerance: 0.23358888274336298\n",
      "  model = cd_fast.enet_coordinate_descent(\n",
      "/Users/rayfregly/anaconda3/lib/python3.8/site-packages/sklearn/linear_model/_coordinate_descent.py:529: UserWarning: Coordinate descent with no regularization may lead to unexpected results and is discouraged.\n",
      "  model = cd_fast.enet_coordinate_descent(\n",
      "/Users/rayfregly/anaconda3/lib/python3.8/site-packages/sklearn/linear_model/_coordinate_descent.py:529: ConvergenceWarning: Objective did not converge. You might want to increase the number of iterations. Duality gap: 0.2721694532449419, tolerance: 0.2268017699115043\n",
      "  model = cd_fast.enet_coordinate_descent(\n",
      "/Users/rayfregly/anaconda3/lib/python3.8/site-packages/sklearn/linear_model/_coordinate_descent.py:529: ConvergenceWarning: Objective did not converge. You might want to increase the number of iterations. Duality gap: 0.8607510074261882, tolerance: 0.2270557522123896\n",
      "  model = cd_fast.enet_coordinate_descent(\n",
      "/Users/rayfregly/anaconda3/lib/python3.8/site-packages/sklearn/linear_model/_coordinate_descent.py:529: ConvergenceWarning: Objective did not converge. You might want to increase the number of iterations. Duality gap: 1.4684561873170878, tolerance: 0.22749380530973437\n",
      "  model = cd_fast.enet_coordinate_descent(\n",
      "/Users/rayfregly/anaconda3/lib/python3.8/site-packages/sklearn/linear_model/_coordinate_descent.py:529: ConvergenceWarning: Objective did not converge. You might want to increase the number of iterations. Duality gap: 4.583514828636379, tolerance: 0.23358888274336298\n",
      "  model = cd_fast.enet_coordinate_descent(\n",
      "/Users/rayfregly/anaconda3/lib/python3.8/site-packages/sklearn/linear_model/_coordinate_descent.py:529: ConvergenceWarning: Objective did not converge. You might want to increase the number of iterations. Duality gap: 1.7582047601695194, tolerance: 0.23004690265486716\n",
      "  model = cd_fast.enet_coordinate_descent(\n",
      "/Users/rayfregly/anaconda3/lib/python3.8/site-packages/sklearn/linear_model/_coordinate_descent.py:529: ConvergenceWarning: Objective did not converge. You might want to increase the number of iterations. Duality gap: 1.0344317305425341, tolerance: 0.2268017699115043\n",
      "  model = cd_fast.enet_coordinate_descent(\n",
      "/Users/rayfregly/anaconda3/lib/python3.8/site-packages/sklearn/linear_model/_coordinate_descent.py:529: ConvergenceWarning: Objective did not converge. You might want to increase the number of iterations. Duality gap: 0.9321442645320985, tolerance: 0.22380398009950286\n",
      "  model = cd_fast.enet_coordinate_descent(\n",
      "/Users/rayfregly/anaconda3/lib/python3.8/site-packages/sklearn/linear_model/_coordinate_descent.py:529: ConvergenceWarning: Objective did not converge. You might want to increase the number of iterations. Duality gap: 0.5886779349789322, tolerance: 0.22544286504424804\n",
      "  model = cd_fast.enet_coordinate_descent(\n",
      "/Users/rayfregly/anaconda3/lib/python3.8/site-packages/sklearn/linear_model/_coordinate_descent.py:529: ConvergenceWarning: Objective did not converge. You might want to increase the number of iterations. Duality gap: 4.601062386305802, tolerance: 0.2270557522123896\n",
      "  model = cd_fast.enet_coordinate_descent(\n",
      "/Users/rayfregly/anaconda3/lib/python3.8/site-packages/sklearn/linear_model/_coordinate_descent.py:529: ConvergenceWarning: Objective did not converge. You might want to increase the number of iterations. Duality gap: 4.742480196130464, tolerance: 0.22749380530973437\n",
      "  model = cd_fast.enet_coordinate_descent(\n",
      "/Users/rayfregly/anaconda3/lib/python3.8/site-packages/sklearn/linear_model/_coordinate_descent.py:529: ConvergenceWarning: Objective did not converge. You might want to increase the number of iterations. Duality gap: 4.531842366354535, tolerance: 0.22457699115044244\n",
      "  model = cd_fast.enet_coordinate_descent(\n",
      "/Users/rayfregly/anaconda3/lib/python3.8/site-packages/sklearn/linear_model/_coordinate_descent.py:529: ConvergenceWarning: Objective did not converge. You might want to increase the number of iterations. Duality gap: 4.3567690984378515, tolerance: 0.23004690265486716\n",
      "  model = cd_fast.enet_coordinate_descent(\n",
      "/Users/rayfregly/anaconda3/lib/python3.8/site-packages/sklearn/linear_model/_coordinate_descent.py:529: ConvergenceWarning: Objective did not converge. You might want to increase the number of iterations. Duality gap: 2.397991996226799, tolerance: 0.22380398009950286\n",
      "  model = cd_fast.enet_coordinate_descent(\n",
      "/Users/rayfregly/anaconda3/lib/python3.8/site-packages/sklearn/linear_model/_coordinate_descent.py:529: ConvergenceWarning: Objective did not converge. You might want to increase the number of iterations. Duality gap: 4.613060769519165, tolerance: 0.22544286504424804\n",
      "  model = cd_fast.enet_coordinate_descent(\n",
      "/Users/rayfregly/anaconda3/lib/python3.8/site-packages/sklearn/linear_model/_coordinate_descent.py:529: UserWarning: Coordinate descent with no regularization may lead to unexpected results and is discouraged.\n",
      "  model = cd_fast.enet_coordinate_descent(\n",
      "/Users/rayfregly/anaconda3/lib/python3.8/site-packages/sklearn/linear_model/_coordinate_descent.py:529: ConvergenceWarning: Objective did not converge. You might want to increase the number of iterations. Duality gap: 1.290597546267918, tolerance: 0.23581393805309672\n",
      "  model = cd_fast.enet_coordinate_descent(\n",
      "/Users/rayfregly/anaconda3/lib/python3.8/site-packages/sklearn/linear_model/_coordinate_descent.py:529: ConvergenceWarning: Objective did not converge. You might want to increase the number of iterations. Duality gap: 1.3756491762314096, tolerance: 0.22701852876106152\n",
      "  model = cd_fast.enet_coordinate_descent(\n",
      "/Users/rayfregly/anaconda3/lib/python3.8/site-packages/sklearn/linear_model/_coordinate_descent.py:529: ConvergenceWarning: Objective did not converge. You might want to increase the number of iterations. Duality gap: 0.6271371217710566, tolerance: 0.2343289823008853\n",
      "  model = cd_fast.enet_coordinate_descent(\n",
      "/Users/rayfregly/anaconda3/lib/python3.8/site-packages/sklearn/linear_model/_coordinate_descent.py:529: ConvergenceWarning: Objective did not converge. You might want to increase the number of iterations. Duality gap: 0.4795113040133856, tolerance: 0.22600398009950282\n",
      "  model = cd_fast.enet_coordinate_descent(\n",
      "/Users/rayfregly/anaconda3/lib/python3.8/site-packages/sklearn/linear_model/_coordinate_descent.py:529: ConvergenceWarning: Objective did not converge. You might want to increase the number of iterations. Duality gap: 4.741468237202128, tolerance: 0.22448119469026515\n",
      "  model = cd_fast.enet_coordinate_descent(\n",
      "/Users/rayfregly/anaconda3/lib/python3.8/site-packages/sklearn/linear_model/_coordinate_descent.py:529: ConvergenceWarning: Objective did not converge. You might want to increase the number of iterations. Duality gap: 4.5562155792963885, tolerance: 0.23581393805309672\n",
      "  model = cd_fast.enet_coordinate_descent(\n",
      "/Users/rayfregly/anaconda3/lib/python3.8/site-packages/sklearn/linear_model/_coordinate_descent.py:529: ConvergenceWarning: Objective did not converge. You might want to increase the number of iterations. Duality gap: 4.496038933532033, tolerance: 0.22873185840707966\n",
      "  model = cd_fast.enet_coordinate_descent(\n",
      "/Users/rayfregly/anaconda3/lib/python3.8/site-packages/sklearn/linear_model/_coordinate_descent.py:529: ConvergenceWarning: Objective did not converge. You might want to increase the number of iterations. Duality gap: 2.5047010986753477, tolerance: 0.2343289823008853\n",
      "  model = cd_fast.enet_coordinate_descent(\n",
      "/Users/rayfregly/anaconda3/lib/python3.8/site-packages/sklearn/linear_model/_coordinate_descent.py:529: ConvergenceWarning: Objective did not converge. You might want to increase the number of iterations. Duality gap: 4.743851383997208, tolerance: 0.22600398009950282\n",
      "  model = cd_fast.enet_coordinate_descent(\n"
     ]
    },
    {
     "name": "stdout",
     "output_type": "stream",
     "text": [
      "0.01\n"
     ]
    },
    {
     "name": "stderr",
     "output_type": "stream",
     "text": [
      "/Users/rayfregly/anaconda3/lib/python3.8/site-packages/sklearn/linear_model/_coordinate_descent.py:529: ConvergenceWarning: Objective did not converge. You might want to increase the number of iterations. Duality gap: 0.3002482102783688, tolerance: 0.25375311100049797\n",
      "  model = cd_fast.enet_coordinate_descent(\n"
     ]
    }
   ],
   "source": [
    "#model for number of stars review\n",
    "\n",
    "test_labels = test['rating'].to_frame()\n",
    "train_labels = train['rating'].to_frame()\n",
    "\n",
    "X_train = train_matrix\n",
    "y_train_nums = np.ravel(train_labels.to_numpy())\n",
    "\n",
    "X_test = test_matrix\n",
    "y_test_nums = np.ravel(test_labels.to_numpy())\n",
    "\n",
    "cv = RepeatedKFold(n_splits=10, n_repeats=3, random_state=1)\n",
    "\n",
    "nums_model = LassoCV(alphas=arange(0, 1, 0.01), cv=cv, n_jobs=-1)\n",
    "\n",
    "nums_model.fit(X_train, y_train_nums)\n",
    "\n",
    "print(nums_model.alpha_)"
   ]
  },
  {
   "cell_type": "code",
   "execution_count": 57,
   "metadata": {},
   "outputs": [
    {
     "name": "stdout",
     "output_type": "stream",
     "text": [
      "39.94947021280382\n",
      "22.013886501596104\n"
     ]
    }
   ],
   "source": [
    "y_hat_nums = nums_model.predict(X_train)\n",
    "\n",
    "loss = np.linalg.norm(y_hat_nums - y_train_nums)\n",
    "print(loss)\n",
    "\n",
    "y_hat_test_nums = nums_model.predict(X_test)\n",
    "loss = np.linalg.norm(y_hat_test_nums - y_test_nums)\n",
    "print(loss)"
   ]
  },
  {
   "cell_type": "code",
   "execution_count": null,
   "metadata": {},
   "outputs": [],
   "source": []
  }
 ],
 "metadata": {
  "kernelspec": {
   "display_name": "Python 3",
   "language": "python",
   "name": "python3"
  },
  "language_info": {
   "codemirror_mode": {
    "name": "ipython",
    "version": 3
   },
   "file_extension": ".py",
   "mimetype": "text/x-python",
   "name": "python",
   "nbconvert_exporter": "python",
   "pygments_lexer": "ipython3",
   "version": "3.8.5"
  }
 },
 "nbformat": 4,
 "nbformat_minor": 4
}
