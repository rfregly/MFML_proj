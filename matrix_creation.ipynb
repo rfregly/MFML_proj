{
 "cells": [
  {
   "cell_type": "code",
   "execution_count": 15,
   "metadata": {},
   "outputs": [
    {
     "name": "stdout",
     "output_type": "stream",
     "text": [
      "2511\n",
      "502\n",
      "2009\n"
     ]
    }
   ],
   "source": [
    "import pandas as pd\n",
    "import math\n",
    "\n",
    "#pull reviews\n",
    "reviews = pandas.read_csv(\"reviews.csv\")\n",
    "\n",
    "#take train data...\n",
    "num_test = math.floor(len(reviews) * .2)\n",
    "num_train = len(reviews) - num_test\n",
    "\n",
    "print(len(reviews))\n",
    "print(num_test)\n",
    "print(num_train)"
   ]
  },
  {
   "cell_type": "code",
   "execution_count": 16,
   "metadata": {},
   "outputs": [
    {
     "name": "stdout",
     "output_type": "stream",
     "text": [
      "502\n",
      "2009\n"
     ]
    }
   ],
   "source": [
    "test = reviews.iloc[:num_test]\n",
    "train = reviews.iloc[num_test:]\n",
    "\n",
    "print(len(test))\n",
    "print(len(train))"
   ]
  },
  {
   "cell_type": "code",
   "execution_count": 29,
   "metadata": {},
   "outputs": [],
   "source": [
    "test_labels = test['rating'].to_frame()\n",
    "test_text = test['text'].to_frame()\n",
    "\n",
    "train_labels = train['rating'].to_frame()\n",
    "train_text = train['text'].to_frame()"
   ]
  },
  {
   "cell_type": "code",
   "execution_count": 35,
   "metadata": {},
   "outputs": [
    {
     "name": "stdout",
     "output_type": "stream",
     "text": [
      "11768\n"
     ]
    }
   ],
   "source": [
    "import nltk\n",
    "from nltk.tokenize import WordPunctTokenizer\n",
    "\n",
    "tk = WordPunctTokenizer()\n",
    "NEG = 'NOT_'\n",
    "negs = ['not', 'none', 'no', 'impossible', 'n\\'t']\n",
    "punct = [',', '.', '?', '!', ';', '-']\n",
    "\n",
    "#preps data\n",
    "def prep(text):\n",
    "    data_list = []\n",
    "    for i, data in text.iterrows():\n",
    "        words = []\n",
    "        review = data['text']\n",
    "        listed = review.split()\n",
    "        neggy = False\n",
    "        for word in listed:\n",
    "            w = word.lower()\n",
    "            if neggy:\n",
    "                if word in punct:\n",
    "                    words.append(w)\n",
    "                    neggy = False\n",
    "                else:\n",
    "                    words.append(NEG + w)\n",
    "            else:\n",
    "                words.append(w)\n",
    "                if w in negs:\n",
    "                    if neggy:\n",
    "                        neggy = False\n",
    "                    else:\n",
    "                        neggy = True\n",
    "        data_list.append(' '.join(words))\n",
    "    return data_list\n",
    " \n",
    "train_list = prep(train_text)\n",
    "tokens = tk.tokenize(' '.join(train_list))\n",
    "freq = nltk.FreqDist(tokens)\n",
    "vocab = {'<unk>':0}\n",
    "i = 1\n",
    "for item in freq.keys():\n",
    "    if item not in vocab:\n",
    "        if freq[item] > 2:\n",
    "            vocab[item] = i\n",
    "            i += 1\n",
    "print(len(vocab))"
   ]
  },
  {
   "cell_type": "code",
   "execution_count": 37,
   "metadata": {},
   "outputs": [
    {
     "name": "stdout",
     "output_type": "stream",
     "text": [
      "train feature matrix shape: (2009, 11768)\n",
      "train label array shape: (2009,)\n"
     ]
    }
   ],
   "source": [
    "import numpy as np\n",
    "\n",
    "def make_matrix(text_list):\n",
    "    n = len(text_list)\n",
    "    X = np.zeros((n, len(vocab)))\n",
    "    for i in range(n):\n",
    "        review = tk.tokenize(text_list[i])\n",
    "        for word in review:\n",
    "            if word in vocab:\n",
    "                X[i][vocab[word]] += 1\n",
    "            else:\n",
    "                X[i][0] += 1\n",
    "    return X\n",
    "\n",
    "train_matrix = make_matrix(train_list)\n",
    "\n",
    "print(\"train feature matrix shape: ({}, {})\".format(len(train_matrix), len(train_matrix[0])))\n",
    "print(\"train label array shape: ({},)\".format(len(train_labels)))"
   ]
  },
  {
   "cell_type": "code",
   "execution_count": 39,
   "metadata": {},
   "outputs": [
    {
     "name": "stdout",
     "output_type": "stream",
     "text": [
      "test feature matrix shape: (502, 11768)\n",
      "test label array shape: (502,)\n"
     ]
    }
   ],
   "source": [
    "#clean test data\n",
    "\n",
    "test_list = prep(test_text)\n",
    "test_matrix = make_matrix(test_list)\n",
    "\n",
    "print(\"test feature matrix shape: ({}, {})\".format(len(test_matrix), len(test_matrix[0])))\n",
    "print(\"test label array shape: ({},)\".format(len(test_labels)))"
   ]
  },
  {
   "cell_type": "code",
   "execution_count": null,
   "metadata": {},
   "outputs": [],
   "source": []
  }
 ],
 "metadata": {
  "kernelspec": {
   "display_name": "Python 3",
   "language": "python",
   "name": "python3"
  },
  "language_info": {
   "codemirror_mode": {
    "name": "ipython",
    "version": 3
   },
   "file_extension": ".py",
   "mimetype": "text/x-python",
   "name": "python",
   "nbconvert_exporter": "python",
   "pygments_lexer": "ipython3",
   "version": "3.8.5"
  }
 },
 "nbformat": 4,
 "nbformat_minor": 4
}
